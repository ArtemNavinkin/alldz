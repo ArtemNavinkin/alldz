{
 "cells": [
  {
   "cell_type": "code",
   "execution_count": null,
   "metadata": {},
   "outputs": [],
   "source": [
    "lenght = int(input('Введите длину'))\n",
    "width = int(input('Введите ширину'))\n",
    "height = int(input('Введите высоту'))\n",
    "if lenght < 15 and width < 15 and height < 15:\n",
    "    print('Коробка №1')\n",
    "elif lenght > 200:\n",
    "    print('ищите упаковку для лыж')\n",
    "elif 15 < lenght < 50 or 15 < width < 50 or 15 < height < 50:\n",
    "    print('Коробка №2')\n",
    "else:\n",
    "    print('Стандартная коробка №3')"
   ]
  },
  {
   "cell_type": "markdown",
   "metadata": {},
   "source": [
    "### Задание 1\n",
    "Даны 2 строки: long_phrase и short_phrase. Напишите код, который проверяет действительно ли длинная фраза long_phrase длиннее короткой short_phrase. И выводит True или False в зависимости от результата сравнения."
   ]
  },
  {
   "cell_type": "code",
   "execution_count": null,
   "metadata": {},
   "outputs": [],
   "source": [
    "long_phrase = 'Насколько проще было бы писать программы, если бы не заказчики'\n",
    "short_phrase = '640Кб должно хватить для любых задач. Билл Гейтс (по легенде)'"
   ]
  },
  {
   "cell_type": "code",
   "execution_count": 2,
   "metadata": {},
   "outputs": [
    {
     "data": {
      "text/plain": [
       "True"
      ]
     },
     "execution_count": 2,
     "metadata": {},
     "output_type": "execute_result"
    }
   ],
   "source": [
    "long_phrase = 'Насколько проще было бы писать программы, если бы не заказчики'\n",
    "short_phrase = '640Кб должно хватить для любых задач. Билл Гейтс (по легенде)'\n",
    "len(short_phrase) < len(long_phrase)"
   ]
  },
  {
   "cell_type": "markdown",
   "metadata": {},
   "source": [
    "### Задание 2 \n",
    "Дано значение объема файла в байтах (в мегабайте 2^20 байт). Напишите перевод этого значения в мегабайты в формате: \"Объем файла равен 213.68Mb\"."
   ]
  },
  {
   "cell_type": "code",
   "execution_count": 11,
   "metadata": {},
   "outputs": [
    {
     "name": "stdout",
     "output_type": "stream",
     "text": [
      "Введите байты4000000\n",
      "Объём файла равен 3.81Mb\n"
     ]
    }
   ],
   "source": [
    "byte = int(input('Введите байты'))\n",
    "print ('Объём файла равен ' + str(round(byte/(2**20),2)) + 'Mb') #str - ф-ция перевода числовых значений в текст, замена кавычек для чисел \n",
    "# round - округление на указанное число единиц после запятой"
   ]
  },
  {
   "cell_type": "markdown",
   "metadata": {},
   "source": [
    "### Задание 3 \n",
    "Разработать приложение для определения знака зодиака по дате рождения. \n",
    "Пример:\n",
    "Введите месяц: март\n",
    "Введите число: 6\n",
    "Вывод: Рыбы\n"
   ]
  },
  {
   "cell_type": "code",
   "execution_count": null,
   "metadata": {},
   "outputs": [],
   "source": [
    "month = input('Введите месяц')\n",
    "number = int(input('Введите число'))\n",
    "if (month == 'март' and number >= 21) or (month == 'апрель' and number <= 19): \n",
    "    print('Овен')\n",
    "elif (month == 'март' and number >= 21) or (month == 'апрель' and number <= 19): \n",
    "    print('Козерог')\n",
    "elif \n",
    "\n"
   ]
  },
  {
   "cell_type": "markdown",
   "metadata": {},
   "source": [
    "# Задание 4 \n",
    "Нужно разработать приложение для финансового планирования. Приложение учитывает сколько уходит на ипотеку, \"на жизнь\" и сколько нужно отложить на пенсию. Пользователь вводит:\n",
    "\n",
    "###    заработанную плату в месяц.\n",
    "###    сколько процентов от ЗП уходит на ипотеку.\n",
    "###    сколько процентов от ЗП уходит \"на жизнь\".\n",
    "###    сколько раз приходит премия в год.\n",
    "\n",
    "Остальная часть заработанной платы откладывается на пенсию.\n",
    "Также пользователю приходит премия в размере зарплаты, от которой половина уходит на отпуск, а вторая половина откладывается.\n",
    "Программа должна учитывать сколько премий было в год.\n",
    "Нужно вывести сколько денег тратит пользователь на ипотеку и сколько он накопит за год.\n",
    "Пример:\n",
    "Введите заработанную плату в месяц: 100000\n",
    "Введите сколько процентов уходит на ипотеку: 30\n",
    "Введите сколько процентов уходит на жизнь: 50\n",
    "Введите количество премий за год: 2\n",
    "Вывод: На ипотеку было потрачено: 360000 рублей Было накоплено: 340000 рублей"
   ]
  },
  {
   "cell_type": "code",
   "execution_count": 1,
   "metadata": {},
   "outputs": [
    {
     "name": "stdout",
     "output_type": "stream",
     "text": [
      "Заработная плата в месяц: 100000\n",
      "Сколько процентов от ЗП уходит на ипотеку: 30\n",
      "Сколько процентов от ЗП уходит на жизнь: 50\n",
      "Сколько раз приходит премия в год: 2\n",
      "На ипотеку было потрачено: 360000 рублей\n",
      "Было накоплено: 340000 рублей\n"
     ]
    }
   ],
   "source": [
    "salary = int(input('Заработная плата в месяц: '))\n",
    "ipoteka = int(input('Сколько процентов от ЗП уходит на ипотеку: '))\n",
    "life = int(input('Сколько процентов от ЗП уходит на жизнь: '))\n",
    "premiy = int(input('Сколько раз приходит премия в год: '))\n",
    "wasted = str(round(((salary*ipoteka)/100)*12))\n",
    "balance = str(round(salary*12 + (salary*premiy)/2 - salary*12*((ipoteka + life)/100)))\n",
    "print ('На ипотеку было потрачено: ' + wasted + ' рублей')\n",
    "print ('Было накоплено: ' + balance + ' рублей')"
   ]
  },
  {
   "cell_type": "code",
   "execution_count": null,
   "metadata": {},
   "outputs": [],
   "source": []
  }
 ],
 "metadata": {
  "kernelspec": {
   "display_name": "Python 3",
   "language": "python",
   "name": "python3"
  },
  "language_info": {
   "codemirror_mode": {
    "name": "ipython",
    "version": 3
   },
   "file_extension": ".py",
   "mimetype": "text/x-python",
   "name": "python",
   "nbconvert_exporter": "python",
   "pygments_lexer": "ipython3",
   "version": "3.7.6"
  }
 },
 "nbformat": 4,
 "nbformat_minor": 4
}
